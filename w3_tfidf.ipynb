{
 "cells": [
  {
   "cell_type": "code",
   "execution_count": 6,
   "id": "5904c4c9",
   "metadata": {},
   "outputs": [],
   "source": [
    "docA = \"doğal dil işleme dersi çok eğlenceli\"\n",
    "docB = \"doğal dil işleme örnekleri çok güzel\" "
   ]
  },
  {
   "cell_type": "code",
   "execution_count": 7,
   "id": "3f4cab1b",
   "metadata": {},
   "outputs": [],
   "source": [
    "bowA = docA.split(\" \")\n",
    "bowB = docB.split(\" \")"
   ]
  },
  {
   "cell_type": "code",
   "execution_count": 8,
   "id": "1cd5faf8",
   "metadata": {},
   "outputs": [
    {
     "data": {
      "text/plain": [
       "['doğal', 'dil', 'işleme', 'dersi', 'çok', 'eğlenceli']"
      ]
     },
     "execution_count": 8,
     "metadata": {},
     "output_type": "execute_result"
    }
   ],
   "source": [
    "bowA"
   ]
  },
  {
   "cell_type": "code",
   "execution_count": 9,
   "id": "49cb6e0b",
   "metadata": {},
   "outputs": [
    {
     "data": {
      "text/plain": [
       "['doğal', 'dil', 'işleme', 'örnekleri', 'çok', 'güzel']"
      ]
     },
     "execution_count": 9,
     "metadata": {},
     "output_type": "execute_result"
    }
   ],
   "source": [
    "bowB"
   ]
  },
  {
   "cell_type": "code",
   "execution_count": 10,
   "id": "62ddafff",
   "metadata": {},
   "outputs": [
    {
     "data": {
      "text/plain": [
       "{'dersi', 'dil', 'doğal', 'eğlenceli', 'güzel', 'işleme', 'çok', 'örnekleri'}"
      ]
     },
     "execution_count": 10,
     "metadata": {},
     "output_type": "execute_result"
    }
   ],
   "source": [
    "wordSet = set(bowA).union(set(bowB))\n",
    "wordSet"
   ]
  },
  {
   "cell_type": "code",
   "execution_count": 11,
   "id": "9a3872c3",
   "metadata": {},
   "outputs": [],
   "source": [
    "wordDictA = dict.fromkeys(wordSet, 0) \n",
    "wordDictB = dict.fromkeys(wordSet, 0) "
   ]
  },
  {
   "cell_type": "code",
   "execution_count": 12,
   "id": "4a7a9741",
   "metadata": {},
   "outputs": [
    {
     "data": {
      "text/plain": [
       "{'doğal': 0,\n",
       " 'dil': 0,\n",
       " 'eğlenceli': 0,\n",
       " 'dersi': 0,\n",
       " 'güzel': 0,\n",
       " 'çok': 0,\n",
       " 'örnekleri': 0,\n",
       " 'işleme': 0}"
      ]
     },
     "execution_count": 12,
     "metadata": {},
     "output_type": "execute_result"
    }
   ],
   "source": [
    "wordDictA"
   ]
  },
  {
   "cell_type": "code",
   "execution_count": 13,
   "id": "4a9840ba",
   "metadata": {},
   "outputs": [
    {
     "data": {
      "text/plain": [
       "{'doğal': 0,\n",
       " 'dil': 0,\n",
       " 'eğlenceli': 0,\n",
       " 'dersi': 0,\n",
       " 'güzel': 0,\n",
       " 'çok': 0,\n",
       " 'örnekleri': 0,\n",
       " 'işleme': 0}"
      ]
     },
     "execution_count": 13,
     "metadata": {},
     "output_type": "execute_result"
    }
   ],
   "source": [
    "wordDictB"
   ]
  },
  {
   "cell_type": "code",
   "execution_count": 14,
   "id": "4626f864",
   "metadata": {},
   "outputs": [],
   "source": [
    "for word in bowA:\n",
    "    wordDictA[word]+=1\n",
    "    \n",
    "for word in bowB:\n",
    "    wordDictB[word]+=1"
   ]
  },
  {
   "cell_type": "code",
   "execution_count": 15,
   "id": "81e9554d",
   "metadata": {},
   "outputs": [
    {
     "data": {
      "text/plain": [
       "{'doğal': 1,\n",
       " 'dil': 1,\n",
       " 'eğlenceli': 1,\n",
       " 'dersi': 1,\n",
       " 'güzel': 0,\n",
       " 'çok': 1,\n",
       " 'örnekleri': 0,\n",
       " 'işleme': 1}"
      ]
     },
     "execution_count": 15,
     "metadata": {},
     "output_type": "execute_result"
    }
   ],
   "source": [
    "wordDictA"
   ]
  },
  {
   "cell_type": "code",
   "execution_count": 16,
   "id": "4ecd0e04",
   "metadata": {},
   "outputs": [
    {
     "data": {
      "text/plain": [
       "{'doğal': 1,\n",
       " 'dil': 1,\n",
       " 'eğlenceli': 0,\n",
       " 'dersi': 0,\n",
       " 'güzel': 1,\n",
       " 'çok': 1,\n",
       " 'örnekleri': 1,\n",
       " 'işleme': 1}"
      ]
     },
     "execution_count": 16,
     "metadata": {},
     "output_type": "execute_result"
    }
   ],
   "source": [
    "wordDictB"
   ]
  },
  {
   "cell_type": "code",
   "execution_count": 17,
   "id": "24c89a64",
   "metadata": {},
   "outputs": [
    {
     "data": {
      "text/html": [
       "<div>\n",
       "<style scoped>\n",
       "    .dataframe tbody tr th:only-of-type {\n",
       "        vertical-align: middle;\n",
       "    }\n",
       "\n",
       "    .dataframe tbody tr th {\n",
       "        vertical-align: top;\n",
       "    }\n",
       "\n",
       "    .dataframe thead th {\n",
       "        text-align: right;\n",
       "    }\n",
       "</style>\n",
       "<table border=\"1\" class=\"dataframe\">\n",
       "  <thead>\n",
       "    <tr style=\"text-align: right;\">\n",
       "      <th></th>\n",
       "      <th>doğal</th>\n",
       "      <th>dil</th>\n",
       "      <th>eğlenceli</th>\n",
       "      <th>dersi</th>\n",
       "      <th>güzel</th>\n",
       "      <th>çok</th>\n",
       "      <th>örnekleri</th>\n",
       "      <th>işleme</th>\n",
       "    </tr>\n",
       "  </thead>\n",
       "  <tbody>\n",
       "    <tr>\n",
       "      <th>0</th>\n",
       "      <td>1</td>\n",
       "      <td>1</td>\n",
       "      <td>1</td>\n",
       "      <td>1</td>\n",
       "      <td>0</td>\n",
       "      <td>1</td>\n",
       "      <td>0</td>\n",
       "      <td>1</td>\n",
       "    </tr>\n",
       "    <tr>\n",
       "      <th>1</th>\n",
       "      <td>1</td>\n",
       "      <td>1</td>\n",
       "      <td>0</td>\n",
       "      <td>0</td>\n",
       "      <td>1</td>\n",
       "      <td>1</td>\n",
       "      <td>1</td>\n",
       "      <td>1</td>\n",
       "    </tr>\n",
       "  </tbody>\n",
       "</table>\n",
       "</div>"
      ],
      "text/plain": [
       "   doğal  dil  eğlenceli  dersi  güzel  çok  örnekleri  işleme\n",
       "0      1    1          1      1      0    1          0       1\n",
       "1      1    1          0      0      1    1          1       1"
      ]
     },
     "execution_count": 17,
     "metadata": {},
     "output_type": "execute_result"
    }
   ],
   "source": [
    "import pandas as pd\n",
    "pd.DataFrame([wordDictA, wordDictB])"
   ]
  },
  {
   "cell_type": "code",
   "execution_count": 18,
   "id": "b2461270",
   "metadata": {},
   "outputs": [],
   "source": [
    "def computeTF(wordDict, bow):\n",
    "    tfDict = {}\n",
    "    bowCount = len(bow)\n",
    "    for word, count in wordDict.items():\n",
    "        tfDict[word] = count/float(bowCount)\n",
    "    return tfDict"
   ]
  },
  {
   "cell_type": "code",
   "execution_count": 19,
   "id": "b0d23b36",
   "metadata": {},
   "outputs": [],
   "source": [
    "tfBowA = computeTF(wordDictA, bowA)\n",
    "tfBowB = computeTF(wordDictB, bowB)"
   ]
  },
  {
   "cell_type": "code",
   "execution_count": 20,
   "id": "1a719c21",
   "metadata": {},
   "outputs": [
    {
     "data": {
      "text/plain": [
       "{'doğal': 0.16666666666666666,\n",
       " 'dil': 0.16666666666666666,\n",
       " 'eğlenceli': 0.16666666666666666,\n",
       " 'dersi': 0.16666666666666666,\n",
       " 'güzel': 0.0,\n",
       " 'çok': 0.16666666666666666,\n",
       " 'örnekleri': 0.0,\n",
       " 'işleme': 0.16666666666666666}"
      ]
     },
     "execution_count": 20,
     "metadata": {},
     "output_type": "execute_result"
    }
   ],
   "source": [
    "tfBowA"
   ]
  },
  {
   "cell_type": "code",
   "execution_count": 21,
   "id": "770a488d",
   "metadata": {},
   "outputs": [
    {
     "data": {
      "text/plain": [
       "{'doğal': 0.16666666666666666,\n",
       " 'dil': 0.16666666666666666,\n",
       " 'eğlenceli': 0.0,\n",
       " 'dersi': 0.0,\n",
       " 'güzel': 0.16666666666666666,\n",
       " 'çok': 0.16666666666666666,\n",
       " 'örnekleri': 0.16666666666666666,\n",
       " 'işleme': 0.16666666666666666}"
      ]
     },
     "execution_count": 21,
     "metadata": {},
     "output_type": "execute_result"
    }
   ],
   "source": [
    "tfBowB"
   ]
  },
  {
   "cell_type": "code",
   "execution_count": 22,
   "id": "3abc2c9d",
   "metadata": {},
   "outputs": [],
   "source": [
    "def computeIDF(docList):\n",
    "    import math\n",
    "    idfDict = {}\n",
    "    N = len(docList)\n",
    "    \n",
    "    idfDict = dict.fromkeys(docList[0].keys(), 0)\n",
    "    for doc in docList:\n",
    "        for word, val in doc.items():\n",
    "            if val > 0:\n",
    "                idfDict[word] += 1\n",
    "    \n",
    "    for word, val in idfDict.items():\n",
    "        idfDict[word] = math.log10(N / float(val))\n",
    "        \n",
    "    return idfDict "
   ]
  },
  {
   "cell_type": "code",
   "execution_count": 23,
   "id": "553a2412",
   "metadata": {},
   "outputs": [
    {
     "data": {
      "text/plain": [
       "{'doğal': 0.0,\n",
       " 'dil': 0.0,\n",
       " 'eğlenceli': 0.3010299956639812,\n",
       " 'dersi': 0.3010299956639812,\n",
       " 'güzel': 0.3010299956639812,\n",
       " 'çok': 0.0,\n",
       " 'örnekleri': 0.3010299956639812,\n",
       " 'işleme': 0.0}"
      ]
     },
     "execution_count": 23,
     "metadata": {},
     "output_type": "execute_result"
    }
   ],
   "source": [
    "idfs = computeIDF([wordDictA, wordDictB])\n",
    "idfs"
   ]
  },
  {
   "cell_type": "code",
   "execution_count": 24,
   "id": "6742ee67",
   "metadata": {},
   "outputs": [],
   "source": [
    "def computeTFIDF(tfBow, idfs):\n",
    "    tfidf = {}\n",
    "    for word, val in tfBow.items():\n",
    "        tfidf[word] = val*idfs[word]\n",
    "    return tfidf"
   ]
  },
  {
   "cell_type": "code",
   "execution_count": 25,
   "id": "7d270247",
   "metadata": {},
   "outputs": [],
   "source": [
    "tfidfBowA = computeTFIDF(tfBowA, idfs)\n",
    "tfidfBowB = computeTFIDF(tfBowB, idfs)"
   ]
  },
  {
   "cell_type": "code",
   "execution_count": 26,
   "id": "4f4df6cb",
   "metadata": {},
   "outputs": [
    {
     "data": {
      "text/html": [
       "<div>\n",
       "<style scoped>\n",
       "    .dataframe tbody tr th:only-of-type {\n",
       "        vertical-align: middle;\n",
       "    }\n",
       "\n",
       "    .dataframe tbody tr th {\n",
       "        vertical-align: top;\n",
       "    }\n",
       "\n",
       "    .dataframe thead th {\n",
       "        text-align: right;\n",
       "    }\n",
       "</style>\n",
       "<table border=\"1\" class=\"dataframe\">\n",
       "  <thead>\n",
       "    <tr style=\"text-align: right;\">\n",
       "      <th></th>\n",
       "      <th>doğal</th>\n",
       "      <th>dil</th>\n",
       "      <th>eğlenceli</th>\n",
       "      <th>dersi</th>\n",
       "      <th>güzel</th>\n",
       "      <th>çok</th>\n",
       "      <th>örnekleri</th>\n",
       "      <th>işleme</th>\n",
       "    </tr>\n",
       "  </thead>\n",
       "  <tbody>\n",
       "    <tr>\n",
       "      <th>0</th>\n",
       "      <td>0.0</td>\n",
       "      <td>0.0</td>\n",
       "      <td>0.050172</td>\n",
       "      <td>0.050172</td>\n",
       "      <td>0.000000</td>\n",
       "      <td>0.0</td>\n",
       "      <td>0.000000</td>\n",
       "      <td>0.0</td>\n",
       "    </tr>\n",
       "    <tr>\n",
       "      <th>1</th>\n",
       "      <td>0.0</td>\n",
       "      <td>0.0</td>\n",
       "      <td>0.000000</td>\n",
       "      <td>0.000000</td>\n",
       "      <td>0.050172</td>\n",
       "      <td>0.0</td>\n",
       "      <td>0.050172</td>\n",
       "      <td>0.0</td>\n",
       "    </tr>\n",
       "  </tbody>\n",
       "</table>\n",
       "</div>"
      ],
      "text/plain": [
       "   doğal  dil  eğlenceli     dersi     güzel  çok  örnekleri  işleme\n",
       "0    0.0  0.0   0.050172  0.050172  0.000000  0.0   0.000000     0.0\n",
       "1    0.0  0.0   0.000000  0.000000  0.050172  0.0   0.050172     0.0"
      ]
     },
     "execution_count": 26,
     "metadata": {},
     "output_type": "execute_result"
    }
   ],
   "source": [
    "import pandas as pd\n",
    "pd.DataFrame([tfidfBowA, tfidfBowB])"
   ]
  },
  {
   "cell_type": "code",
   "execution_count": 27,
   "id": "d800eae7",
   "metadata": {},
   "outputs": [
    {
     "name": "stdout",
     "output_type": "stream",
     "text": [
      "TF-IDF Matrix:\n",
      "    amazing       and    coding      deep     enjoy        in        is  \\\n",
      "0  0.000000  0.365278  0.000000  0.463308  0.000000  0.000000  0.000000   \n",
      "1  0.596039  0.000000  0.000000  0.000000  0.000000  0.000000  0.596039   \n",
      "2  0.000000  0.000000  0.525473  0.000000  0.525473  0.525473  0.000000   \n",
      "3  0.000000  0.350561  0.000000  0.000000  0.000000  0.000000  0.000000   \n",
      "\n",
      "   learning      love   machine    python  together      well      work  \n",
      "0  0.591448  0.463308  0.295724  0.000000  0.000000  0.000000  0.000000  \n",
      "1  0.380444  0.000000  0.380444  0.000000  0.000000  0.000000  0.000000  \n",
      "2  0.000000  0.000000  0.000000  0.414289  0.000000  0.000000  0.000000  \n",
      "3  0.283809  0.000000  0.283809  0.350561  0.444642  0.444642  0.444642  \n"
     ]
    }
   ],
   "source": [
    "from sklearn.feature_extraction.text import TfidfVectorizer\n",
    "import pandas as pd\n",
    "\n",
    "# Example corpus (list of documents)\n",
    "corpus = [\n",
    "    \"I love machine learning and deep learning.\",\n",
    "    \"Machine learning is amazing.\",\n",
    "    \"I enjoy coding in Python.\",\n",
    "    \"Python and machine learning work well together.\",\n",
    "]\n",
    "\n",
    "# Initialize TfidfVectorizer\n",
    "vectorizer = TfidfVectorizer()\n",
    "\n",
    "# Fit and transform the corpus\n",
    "tfidf_matrix = vectorizer.fit_transform(corpus)\n",
    "\n",
    "# Get feature names (words)\n",
    "feature_names = vectorizer.get_feature_names_out()\n",
    "\n",
    "# Convert TF-IDF matrix to a DataFrame for easy visualization\n",
    "tfidf_df = pd.DataFrame(tfidf_matrix.toarray(), columns=feature_names)\n",
    "\n",
    "# Display the TF-IDF scores\n",
    "print(\"TF-IDF Matrix:\")\n",
    "print(tfidf_df)"
   ]
  },
  {
   "cell_type": "code",
   "execution_count": null,
   "id": "4684508b-4020-43e5-8a64-21705c1a1bce",
   "metadata": {},
   "outputs": [],
   "source": []
  }
 ],
 "metadata": {
  "kernelspec": {
   "display_name": "Python 3 (ipykernel)",
   "language": "python",
   "name": "python3"
  },
  "language_info": {
   "codemirror_mode": {
    "name": "ipython",
    "version": 3
   },
   "file_extension": ".py",
   "mimetype": "text/x-python",
   "name": "python",
   "nbconvert_exporter": "python",
   "pygments_lexer": "ipython3",
   "version": "3.12.4"
  }
 },
 "nbformat": 4,
 "nbformat_minor": 5
}
