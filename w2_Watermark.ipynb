{
 "cells": [
  {
   "cell_type": "code",
   "execution_count": 1,
   "id": "c4537017",
   "metadata": {},
   "outputs": [],
   "source": [
    "import cv2\n",
    "import numpy as np\n",
    "\n",
    "# Beyaz bir görüntü oluştur\n",
    "image = np.ones((800, 1200, 3), dtype=np.uint8) * 255  # Beyaz arka plan\n",
    "\n",
    "# Görüntü işleme ile ilgili bir soru ekle\n",
    "question = 'Goruntu islemede \"median filter\" ne amacla kullanilir?'\n",
    "cv2.putText(image, question, (50, 50), cv2.FONT_HERSHEY_SIMPLEX, 1, (0, 0, 0), 2, cv2.LINE_AA)\n",
    "\n",
    "# Gri renkte filigran ekleyin\n",
    "filigran_text = 'MKotan'\n",
    "cv2.putText(image, filigran_text, (50, 300), cv2.FONT_HERSHEY_SIMPLEX, 2, (150, 150, 150), 2, cv2.LINE_AA)\n",
    "\n",
    "# Gri tonlamaya dönüştür\n",
    "gray_image = cv2.cvtColor(image, cv2.COLOR_BGR2GRAY)\n",
    "cv2.imshow('Gray Image with Watermark', gray_image)\n",
    "cv2.waitKey(0)\n",
    "\n",
    "# Gri pikselleri filigran olarak algıla ve kaldır\n",
    "threshold = 100  # Gri olarak kabul edilen eşik değeri\n",
    "gray_image[gray_image > threshold] = 255\n",
    "\n",
    "# Görüntüyü göster\n",
    "cv2.imshow('Gray Image without Watermark', gray_image)\n",
    "cv2.waitKey(0)\n",
    "cv2.destroyAllWindows()"
   ]
  },
  {
   "cell_type": "code",
   "execution_count": null,
   "id": "d010a960",
   "metadata": {},
   "outputs": [],
   "source": []
  }
 ],
 "metadata": {
  "kernelspec": {
   "display_name": "Python 3 (ipykernel)",
   "language": "python",
   "name": "python3"
  },
  "language_info": {
   "codemirror_mode": {
    "name": "ipython",
    "version": 3
   },
   "file_extension": ".py",
   "mimetype": "text/x-python",
   "name": "python",
   "nbconvert_exporter": "python",
   "pygments_lexer": "ipython3",
   "version": "3.9.15"
  }
 },
 "nbformat": 4,
 "nbformat_minor": 5
}
